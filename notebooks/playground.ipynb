{
 "cells": [
  {
   "cell_type": "code",
   "execution_count": 28,
   "metadata": {},
   "outputs": [],
   "source": [
    "keywords = [[\"argument\", \"opinion\"], [\"style-transfer\", \"content\"], [\"bla\"]]\n",
    "\n",
    "filter_str_lst = [f\"({'|'.join([x.lower() for x in lst_])})\" for lst_ in keywords]"
   ]
  },
  {
   "cell_type": "code",
   "execution_count": 29,
   "metadata": {},
   "outputs": [],
   "source": [
    "import pandas as pd\n",
    "\n",
    "original_df = pd.DataFrame(\n",
    "    [\n",
    "        {\"ID\": 1, \"title\": \"argument asdasddfsd style asdasd\", \"abstract\": \"\"},\n",
    "        {\"ID\": 2, \"title\": \"argument asdasddfsd style asdasd bla\", \"abstract\": \"\"},\n",
    "        {\"ID\": 3, \"title\": \"opinion asdasddfsd content\", \"abstract\": \"\"},\n",
    "        {\"ID\": 4, \"title\": \"Not related to anything\", \"abstract\": \"\"},\n",
    "        {\"ID\": 5, \"title\": \"bla\", \"abstract\": \"\"},\n",
    "        {\"ID\": 6, \"title\": \"opinion\", \"abstract\": \"content, bla opinion\"},\n",
    "    ]\n",
    ")"
   ]
  },
  {
   "cell_type": "code",
   "execution_count": 30,
   "metadata": {},
   "outputs": [
    {
     "name": "stdout",
     "output_type": "stream",
     "text": [
      "ID [1, 2, 3, 6] has (argument|opinion)\n",
      "ID [3] has (style-transfer|content)\n",
      "ID [] has (bla)\n",
      "ID [6] has (argument|opinion)\n",
      "ID [] has (style-transfer|content)\n",
      "ID [] has (bla)\n"
     ]
    },
    {
     "name": "stderr",
     "output_type": "stream",
     "text": [
      "C:\\Users\\elba_ro\\AppData\\Local\\Temp\\ipykernel_19028\\3247330465.py:7: UserWarning: This pattern is interpreted as a regular expression, and has match groups. To actually get the groups, use str.extract.\n",
      "  field_df[f\"{field_}\"].astype(str).str.contains(f)\n"
     ]
    },
    {
     "data": {
      "text/plain": [
       "[]"
      ]
     },
     "execution_count": 30,
     "metadata": {},
     "output_type": "execute_result"
    }
   ],
   "source": [
    "keep_lst = []\n",
    "for field_ in [\"title\", \"abstract\"]:\n",
    "    field_df = original_df.copy()\n",
    "    for f in filter_str_lst:\n",
    "        ##print(f)\n",
    "        field_df = field_df[field_df[f\"{field_}\"].astype(str).str.contains(f)]\n",
    "        print(f\"ID {field_df['ID'].tolist()} has {f}\")\n",
    "    keep_lst.extend(field_df[\"ID\"].values)\n",
    "keep_lst"
   ]
  },
  {
   "cell_type": "code",
   "execution_count": 31,
   "metadata": {},
   "outputs": [
    {
     "data": {
      "text/html": [
       "<div>\n",
       "<style scoped>\n",
       "    .dataframe tbody tr th:only-of-type {\n",
       "        vertical-align: middle;\n",
       "    }\n",
       "\n",
       "    .dataframe tbody tr th {\n",
       "        vertical-align: top;\n",
       "    }\n",
       "\n",
       "    .dataframe thead th {\n",
       "        text-align: right;\n",
       "    }\n",
       "</style>\n",
       "<table border=\"1\" class=\"dataframe\">\n",
       "  <thead>\n",
       "    <tr style=\"text-align: right;\">\n",
       "      <th></th>\n",
       "      <th>ID</th>\n",
       "      <th>title</th>\n",
       "      <th>abstract</th>\n",
       "    </tr>\n",
       "  </thead>\n",
       "  <tbody>\n",
       "  </tbody>\n",
       "</table>\n",
       "</div>"
      ],
      "text/plain": [
       "Empty DataFrame\n",
       "Columns: [ID, title, abstract]\n",
       "Index: []"
      ]
     },
     "execution_count": 31,
     "metadata": {},
     "output_type": "execute_result"
    }
   ],
   "source": [
    "original_df[original_df[\"ID\"].isin(keep_lst)]"
   ]
  },
  {
   "cell_type": "code",
   "execution_count": null,
   "metadata": {},
   "outputs": [],
   "source": []
  }
 ],
 "metadata": {
  "kernelspec": {
   "display_name": "Python 3",
   "language": "python",
   "name": "python3"
  },
  "language_info": {
   "codemirror_mode": {
    "name": "ipython",
    "version": 3
   },
   "file_extension": ".py",
   "mimetype": "text/x-python",
   "name": "python",
   "nbconvert_exporter": "python",
   "pygments_lexer": "ipython3",
   "version": "3.8.2"
  },
  "orig_nbformat": 4,
  "vscode": {
   "interpreter": {
    "hash": "570feb405e2e27c949193ac68f46852414290d515b0ba6e5d90d076ed2284471"
   }
  }
 },
 "nbformat": 4,
 "nbformat_minor": 2
}
