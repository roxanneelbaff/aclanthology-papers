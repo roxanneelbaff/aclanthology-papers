{
 "cells": [
  {
   "cell_type": "code",
   "execution_count": null,
   "metadata": {},
   "outputs": [],
   "source": [
    "%pip install  -e ../\n",
    "\n",
    "# RESTART YOUR JUPYTER NOTEBOOK AFTER RUNNING THIS"
   ]
  },
  {
   "cell_type": "code",
   "execution_count": 1,
   "metadata": {},
   "outputs": [
    {
     "name": "stderr",
     "output_type": "stream",
     "text": [
      "Since the GPL-licensed package `unidecode` is not installed, using Python's `unicodedata` package which yields worse results.\n"
     ]
    }
   ],
   "source": [
    "import pandas as pd\n",
    "from aad.aad import AADSearch"
   ]
  },
  {
   "attachments": {},
   "cell_type": "markdown",
   "metadata": {},
   "source": [
    "## Define your Keywords\n",
    "\n",
    "the keywords are a 2D array, wich is a list of keywords list. The search fields (e.g. paper title) should match **at least one keyword of each keyword list**.\n",
    "\n",
    "Your fields can include paper *titles* and paper *abstracts*. \n",
    "\n",
    "For example, if your want to filter papers based on title and abstract:\n",
    "\n",
    "- keywords =[[ \"emotion\" ]] --> get all papers that has \"emotion\" in their titles **OR** in their abstracts\n",
    "- keywords =[[ \"emotion\" ], [ \"multimodel\" ]] --> get all papers that has (\"emotion\" AND \"mutimodel\") in their titles **OR** in their abstracts\n",
    "- keywords =[[ \"emotion\", \"sentiment\"], [ \"multimodel\" ]] --> get all papers that has ((\"emotion\" or \"sentiment\") AND \"mutimodel\") in their titles **OR** in their abstracts"
   ]
  },
  {
   "cell_type": "code",
   "execution_count": null,
   "metadata": {},
   "outputs": [],
   "source": [
    "configs = [\n",
    "    {\n",
    "        \"folder\": \"conf23_arg_style_transfer_gen\",\n",
    "        \"keywords\": [\n",
    "            [\n",
    "                \"argument\",\n",
    "                \"arguments\",\n",
    "                \"argumentation\",\n",
    "                \"opinion\",\n",
    "                \"stance\",\n",
    "                \"debate\",\n",
    "                \"argumentative\",\n",
    "            ],\n",
    "            [\"style transfer\", \"style\"],\n",
    "            [\n",
    "                \"transfer\",\n",
    "                \"generation\",\n",
    "            ],\n",
    "        ],\n",
    "    },\n",
    "    {\n",
    "        \"folder\": \"conf23_style_transfer_generation\",\n",
    "        \"keywords\": [\n",
    "            [\"style transfer\", \"style\"],\n",
    "            [\n",
    "                \"transfer\",\n",
    "                \"generation\",\n",
    "            ],\n",
    "        ],\n",
    "    },\n",
    "    {\n",
    "        \"folder\": \"conf23_argument_quality_gentrans\",\n",
    "        \"keywords\": [\n",
    "            [\n",
    "                \"argument\",\n",
    "                \"argumentative\",\n",
    "                \"stance\",\n",
    "                \"editorial\",\n",
    "                \"opinion\",\n",
    "                \"opinions\",\n",
    "                \"debate\",\n",
    "            ],\n",
    "            [\n",
    "                \"transfer\",\n",
    "                \"generation\",\n",
    "            ],\n",
    "            [\n",
    "                \"effect\",\n",
    "                \"effectiveness\",\n",
    "                \"quality\",\n",
    "                \"convinc\",\n",
    "                \"persuasive\",\n",
    "                \"persuasion\",\n",
    "            ],\n",
    "        ],\n",
    "    },\n",
    "]\n",
    "\n",
    "\n",
    "for c in configs:\n",
    "    searcher = None\n",
    "    searcher = AADSearch(\n",
    "        keywords=c[\"keywords\"], force_download=False, fields=[\"title\", \"abstract\"]\n",
    "    )\n",
    "    searcher.download_papers(\n",
    "        folder_name=f\"../data/{c['folder']}\"\n",
    "    )  # This function calls \"filter\" (in case the papers are not filtered) and then downloads the papers.\n",
    "    print(len(searcher.filtered_df))"
   ]
  },
  {
   "attachments": {},
   "cell_type": "markdown",
   "metadata": {},
   "source": [
    "## Define your searcher\n",
    "You set the keywords and fields (in the acl anthology case, we only have title and abstract).\n",
    "\n",
    "- **keywords**: as defined above, are the keywords used for having a match in your fields.\n",
    "- **fields**: are the fields you filter on.\n",
    "- **force_download**: The searcher will by default download the acl anthology from the website in case it is not locally downloaded. If this field is set to True, then the bib anthology will be redownloaded. Please set to True if you think the online bib was updated (probably each few months). Otherwise set to False."
   ]
  },
  {
   "cell_type": "code",
   "execution_count": null,
   "metadata": {},
   "outputs": [],
   "source": [
    "searcher = AADSearch(\n",
    "    keywords=keywords, force_download=False, fields=[\"title\", \"abstract\"]\n",
    ")"
   ]
  },
  {
   "attachments": {},
   "cell_type": "markdown",
   "metadata": {},
   "source": [
    "## Download your papers\n",
    "Downloads the filtered papers into a customized folder. It also downloads a csv file containing the metadata (title, url, etc.) of the downloaded papers\n",
    "\n",
    "- The folder will be created (in case it does not exist).\n",
    "- The filtered_df shows a dataframe with the filtered papers metadata\n",
    "\n",
    "If you want to check the filtered results and then download the paper, then call **searcher.filter()** which will return a dataframe with the filtered data.\n",
    "After that, if you call download_papers, the papers will be downloaded."
   ]
  },
  {
   "cell_type": "code",
   "execution_count": null,
   "metadata": {},
   "outputs": [],
   "source": [
    "searcher.download_papers(\n",
    "    folder_name=\"../data/conf2023_argument_style_transfer\"\n",
    ")  # This function calls \"filter\" (in case the papers are not filtered) and then downloads the papers.\n",
    "searcher.filtered_df.head()"
   ]
  },
  {
   "cell_type": "code",
   "execution_count": null,
   "metadata": {},
   "outputs": [],
   "source": [
    "searcher.filtered_df"
   ]
  },
  {
   "attachments": {},
   "cell_type": "markdown",
   "metadata": {},
   "source": [
    "## Downloading from a list of urls\n",
    "This is a static funtion that takes a list of urls where these urls point to the paper aclanthology link or pdf link.\n",
    "\n",
    "It takes a list of urls and folder name and it downloads the papers and assigns them the name assigned by aclanth.\n",
    "\n",
    "I used this after checking my filtered_df csv file (papers.csv) and manually filtering the papers I am interested in. I thought it would be quicker to copy paset the urls from the url columns and download the papers in a custom folder.\n",
    "\n"
   ]
  }
 ],
 "metadata": {
  "kernelspec": {
   "display_name": "Python 3.8.2 64-bit",
   "language": "python",
   "name": "python3"
  },
  "language_info": {
   "codemirror_mode": {
    "name": "ipython",
    "version": 3
   },
   "file_extension": ".py",
   "mimetype": "text/x-python",
   "name": "python",
   "nbconvert_exporter": "python",
   "pygments_lexer": "ipython3",
   "version": "3.8.2"
  },
  "orig_nbformat": 4,
  "vscode": {
   "interpreter": {
    "hash": "570feb405e2e27c949193ac68f46852414290d515b0ba6e5d90d076ed2284471"
   }
  }
 },
 "nbformat": 4,
 "nbformat_minor": 2
}
