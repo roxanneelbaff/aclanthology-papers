{
 "cells": [
  {
   "cell_type": "code",
   "execution_count": null,
   "metadata": {},
   "outputs": [],
   "source": [
    "%pip install  -e ../\n",
    "\n",
    "# RESTART YOUR JUPYTER NOTEBOOK AFTER RUNNING THIS"
   ]
  },
  {
   "cell_type": "code",
   "execution_count": 3,
   "metadata": {},
   "outputs": [],
   "source": [
    "import pandas as pd\n",
    "from aad.aad import AADSearch"
   ]
  },
  {
   "attachments": {},
   "cell_type": "markdown",
   "metadata": {},
   "source": [
    "## Define your Keywords\n",
    "\n",
    "the keywords are a 2D array. The search fields (e.g. paper title) should match **at least one keyword of each keyword list**.\n",
    "\n",
    "Your fields can be paper *title* and paper *abstract*. \n",
    "\n",
    "For example, if your want to filter papers based on title and abstract:\n",
    "\n",
    "- keywords =[[ \"emotion\" ]] --> get all papers that has \"emotion\" in their titles **OR** in their abstracts\n",
    "- keywords =[[ \"emotion\" ], [ \"multimodel\" ]] --> get all papers that has (\"emotion\" AND \"mutimodel\") in their titles **OR** in their abstracts\n",
    "- keywords =[[ \"emotion\", \"sentiment\"], [ \"multimodel\" ]] --> get all papers that has ((\"emotion\" or \"sentiment\") AND \"mutimodel\") in their titles **OR** in their abstracts\n",
    "\n"
   ]
  },
  {
   "cell_type": "code",
   "execution_count": null,
   "metadata": {},
   "outputs": [],
   "source": [
    "\n",
    "\n",
    "keywords =[[ \"emotion\" ,  \"emotions\" ,  \"emotional\" ], [ \"multilingual\", \"multi-lingual\", \"culture\", \"multiculture\", \"multi-culture\" ]]#emotion_multilingual\n",
    "\n",
    "keywords =[[\"emotion\" ,  \"emotions\" ,  \"emotional\" ], [\"image\", \"images\", \"videos\", \"video\",  \"multilingual\", \"multi-lingual\", \"culture\", \"multiculture\", \"multi-culture\", \"multimodel\" ]] #\n",
    "\n"
   ]
  },
  {
   "attachments": {},
   "cell_type": "markdown",
   "metadata": {},
   "source": [
    "## Define your searcher\n",
    "You set the keywords and fields (in the acl anthology case, we only have title and abstract).\n",
    "\n",
    "- **keywords**: as defined above, are the keywords contained in your fields\n",
    "- **fields**: are the fields you filter open\n",
    "- **force_download**: The searcher by default will download the acl anthology from the website. If this field is set to True, then the bib anthology will be redownloaded. Please set to True if you think the online bib was updated (probably each few months). Otherwise set to False"
   ]
  },
  {
   "cell_type": "code",
   "execution_count": null,
   "metadata": {},
   "outputs": [],
   "source": [
    "\n",
    "searcher = AADSearch(keywords=keywords, force_download=False, fields=[\"title\", \"abstract\"])\n",
    "\n",
    "searcher.df.columns.tolist()"
   ]
  },
  {
   "attachments": {},
   "cell_type": "markdown",
   "metadata": {},
   "source": [
    "## Download your papers\n",
    "Downloads the filtered papers into a customized folder. It also downloads a csv file containing the metadata (title, url, etc.) of the downloaded papers\n",
    "\n",
    "- The folder will be created (in case it does not exist).\n",
    "- The filtered_df shows a dataframe with the filtered papers metadata\n",
    "\n",
    "If you want to check the filtered results and then download the paper, then call **searcher.filter()** which will return a dataframe with the filtered data.\n",
    "After that, if you call download_papers, the papers will be downloaded."
   ]
  },
  {
   "cell_type": "code",
   "execution_count": null,
   "metadata": {},
   "outputs": [],
   "source": [
    "searcher.download_papers(folder_name=\"../data/papers\") # This function calls \"filter\" (in case the papers are not filtered) and then downloads the papers.\n",
    "searcher.filtered_df.head()"
   ]
  },
  {
   "cell_type": "code",
   "execution_count": null,
   "metadata": {},
   "outputs": [],
   "source": [
    "len(searcher.filtered_df)"
   ]
  },
  {
   "attachments": {},
   "cell_type": "markdown",
   "metadata": {},
   "source": [
    "## Downloading from a list of urls\n",
    "\n"
   ]
  },
  {
   "cell_type": "code",
   "execution_count": 4,
   "metadata": {},
   "outputs": [],
   "source": [
    "\n",
    "urls = [\n",
    "    'https://aclanthology.org/2022.woah-1.2',\n",
    "    'https://aclanthology.org/2022.tacl-1.40',\n",
    "    'https://aclanthology.org/2022.starsem-1.14',\n",
    "    'https://aclanthology.org/2022.socialnlp-1.2',\n",
    "]\n",
    "\n"
   ]
  },
  {
   "cell_type": "code",
   "execution_count": null,
   "metadata": {},
   "outputs": [],
   "source": [
    "from aad.aad import *\n",
    "download_from_urls(urls, folder_name= \"../data/filtered_arg_style\")"
   ]
  }
 ],
 "metadata": {
  "kernelspec": {
   "display_name": "Python 3.8.2 64-bit",
   "language": "python",
   "name": "python3"
  },
  "language_info": {
   "codemirror_mode": {
    "name": "ipython",
    "version": 3
   },
   "file_extension": ".py",
   "mimetype": "text/x-python",
   "name": "python",
   "nbconvert_exporter": "python",
   "pygments_lexer": "ipython3",
   "version": "3.8.2"
  },
  "orig_nbformat": 4,
  "vscode": {
   "interpreter": {
    "hash": "570feb405e2e27c949193ac68f46852414290d515b0ba6e5d90d076ed2284471"
   }
  }
 },
 "nbformat": 4,
 "nbformat_minor": 2
}
